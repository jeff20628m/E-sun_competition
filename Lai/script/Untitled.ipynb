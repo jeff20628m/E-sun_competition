{
 "cells": [
  {
   "cell_type": "code",
   "execution_count": 1,
   "metadata": {},
   "outputs": [],
   "source": [
    "import tensorflow as tf\n",
    "from tensorflow.keras import initializers\n",
    "from tensorflow.keras.layers import Input, Conv2D, Lambda, Dense, Flatten, MaxPooling2D,BatchNormalization,Dropout\n",
    "from tensorflow.keras.models import Model, Sequential\n",
    "from tensorflow.keras.regularizers import l2\n",
    "from tensorflow.keras import backend as K\n",
    "from tensorflow.keras.optimizers import SGD, Adam\n",
    "from tensorflow.keras.losses import binary_crossentropy\n",
    "import numpy.random as rng\n",
    "import numpy as np\n",
    "import os\n",
    "import pickle\n",
    "import matplotlib.pyplot as plt\n",
    "import seaborn as sns\n",
    "from sklearn.utils import shuffle"
   ]
  },
  {
   "cell_type": "code",
   "execution_count": 2,
   "metadata": {},
   "outputs": [],
   "source": [
    "from tensorflow.keras.preprocessing import image_dataset_from_directory\n",
    "from tensorflow.keras.preprocessing.image import ImageDataGenerator"
   ]
  },
  {
   "cell_type": "code",
   "execution_count": 3,
   "metadata": {},
   "outputs": [],
   "source": [
    "img_gen = ImageDataGenerator(featurewise_center=True,featurewise_std_normalization=True,rescale=1./255)"
   ]
  },
  {
   "cell_type": "code",
   "execution_count": 4,
   "metadata": {},
   "outputs": [
    {
     "name": "stdout",
     "output_type": "stream",
     "text": [
      "Found 68804 images belonging to 800 classes.\n"
     ]
    }
   ],
   "source": [
    "train_gen = img_gen.flow_from_directory('../../../data_set/模型訓練資料/format_train/',target_size=(96,96),batch_size=32)"
   ]
  },
  {
   "cell_type": "code",
   "execution_count": 5,
   "metadata": {},
   "outputs": [
    {
     "name": "stdout",
     "output_type": "stream",
     "text": [
      "1 Physical GPUs, 1 Logical GPUs\n"
     ]
    }
   ],
   "source": [
    "def solve_cudnn_error():\n",
    "    gpus = tf.config.experimental.list_physical_devices('GPU')\n",
    "    if gpus:\n",
    "        try:\n",
    "            # Currently, memory growth needs to be the same across GPUs\n",
    "            for gpu in gpus:\n",
    "                tf.config.experimental.set_memory_growth(gpu, True)\n",
    "            logical_gpus = tf.config.experimental.list_logical_devices('GPU')\n",
    "            print(len(gpus), \"Physical GPUs,\", len(logical_gpus),\n",
    "                  \"Logical GPUs\")\n",
    "        except RuntimeError as e:\n",
    "            # Memory growth must be set before GPUs have been initialized\n",
    "            print(e)\n",
    "\n",
    "\n",
    "solve_cudnn_error()"
   ]
  },
  {
   "cell_type": "code",
   "execution_count": 12,
   "metadata": {
    "scrolled": true
   },
   "outputs": [
    {
     "name": "stdout",
     "output_type": "stream",
     "text": [
      "Model: \"sequential_6\"\n",
      "_________________________________________________________________\n",
      "Layer (type)                 Output Shape              Param #   \n",
      "=================================================================\n",
      "conv2d_29 (Conv2D)           (None, 87, 87, 64)        19264     \n",
      "_________________________________________________________________\n",
      "batch_normalization_17 (Batc (None, 87, 87, 64)        256       \n",
      "_________________________________________________________________\n",
      "dropout_29 (Dropout)         (None, 87, 87, 64)        0         \n",
      "_________________________________________________________________\n",
      "max_pooling2d_23 (MaxPooling (None, 43, 43, 64)        0         \n",
      "_________________________________________________________________\n",
      "conv2d_30 (Conv2D)           (None, 37, 37, 128)       401536    \n",
      "_________________________________________________________________\n",
      "dropout_30 (Dropout)         (None, 37, 37, 128)       0         \n",
      "_________________________________________________________________\n",
      "max_pooling2d_24 (MaxPooling (None, 18, 18, 128)       0         \n",
      "_________________________________________________________________\n",
      "conv2d_31 (Conv2D)           (None, 12, 12, 256)       1605888   \n",
      "_________________________________________________________________\n",
      "batch_normalization_18 (Batc (None, 12, 12, 256)       1024      \n",
      "_________________________________________________________________\n",
      "dropout_31 (Dropout)         (None, 12, 12, 256)       0         \n",
      "_________________________________________________________________\n",
      "max_pooling2d_25 (MaxPooling (None, 6, 6, 256)         0         \n",
      "_________________________________________________________________\n",
      "conv2d_32 (Conv2D)           (None, 3, 3, 512)         2097664   \n",
      "_________________________________________________________________\n",
      "batch_normalization_19 (Batc (None, 3, 3, 512)         2048      \n",
      "_________________________________________________________________\n",
      "dropout_32 (Dropout)         (None, 3, 3, 512)         0         \n",
      "_________________________________________________________________\n",
      "max_pooling2d_26 (MaxPooling (None, 1, 1, 512)         0         \n",
      "_________________________________________________________________\n",
      "conv2d_33 (Conv2D)           (None, 1, 1, 1024)        2098176   \n",
      "_________________________________________________________________\n",
      "flatten_6 (Flatten)          (None, 1024)              0         \n",
      "_________________________________________________________________\n",
      "dense_12 (Dense)             (None, 1024)              1049600   \n",
      "_________________________________________________________________\n",
      "dropout_33 (Dropout)         (None, 1024)              0         \n",
      "_________________________________________________________________\n",
      "dense_13 (Dense)             (None, 800)               820000    \n",
      "=================================================================\n",
      "Total params: 8,095,456\n",
      "Trainable params: 8,093,792\n",
      "Non-trainable params: 1,664\n",
      "_________________________________________________________________\n"
     ]
    }
   ],
   "source": [
    "input_shape = (96,96,3)\n",
    "\n",
    "convnet = Sequential()\n",
    "convnet.add(\n",
    "    Conv2D(64, (10, 10),\n",
    "           activation='relu',\n",
    "           input_shape=input_shape,\n",
    "           kernel_initializer=initializers.RandomNormal(stddev=0.01),\n",
    "           kernel_regularizer=l2(2e-4)))\n",
    "convnet.add(BatchNormalization())\n",
    "convnet.add(Dropout(0.4))\n",
    "convnet.add(MaxPooling2D())\n",
    "convnet.add(Conv2D(128, (7, 7), activation='relu',\n",
    "                   kernel_initializer=initializers.RandomNormal(stddev=0.01),\n",
    "                   kernel_regularizer=l2(2e-4)))\n",
    "convnet.add(Dropout(0.4))\n",
    "convnet.add(MaxPooling2D())\n",
    "convnet.add(Conv2D(256, (7, 7), activation='relu',\n",
    "                   kernel_initializer=initializers.RandomNormal(stddev=0.01),\n",
    "                   kernel_regularizer=l2(2e-4)))\n",
    "convnet.add(BatchNormalization())\n",
    "convnet.add(Dropout(0.4))\n",
    "convnet.add(MaxPooling2D())\n",
    "convnet.add(Conv2D(512, (4, 4), activation='relu',\n",
    "                   kernel_initializer=initializers.RandomNormal(stddev=0.01),\n",
    "                   kernel_regularizer=l2(2e-4)))\n",
    "convnet.add(BatchNormalization())\n",
    "convnet.add(Dropout(0.4))\n",
    "convnet.add(MaxPooling2D())\n",
    "convnet.add(Conv2D(1024, (2, 2), activation='relu',padding='same',\n",
    "                   kernel_initializer=initializers.RandomNormal(stddev=0.01),\n",
    "                   kernel_regularizer=l2(2e-4)))\n",
    "convnet.add(Flatten())\n",
    "convnet.add(Dense(1024, activation=\"relu\", kernel_regularizer=l2(1e-3)))\n",
    "convnet.add(Dropout(0.4))\n",
    "convnet.add(Dense(800, activation=\"softmax\"))\n",
    "\n",
    "convnet.compile(optimizer= Adam(),loss='categorical_crossentropy',metrics=['accuracy'])\n",
    "convnet.summary()"
   ]
  },
  {
   "cell_type": "code",
   "execution_count": null,
   "metadata": {},
   "outputs": [
    {
     "name": "stderr",
     "output_type": "stream",
     "text": [
      "C:\\Users\\USER\\Anaconda3\\lib\\site-packages\\keras_preprocessing\\image\\image_data_generator.py:720: UserWarning: This ImageDataGenerator specifies `featurewise_center`, but it hasn't been fit on any training data. Fit it first by calling `.fit(numpy_data)`.\n",
      "  warnings.warn('This ImageDataGenerator specifies '\n",
      "C:\\Users\\USER\\Anaconda3\\lib\\site-packages\\keras_preprocessing\\image\\image_data_generator.py:728: UserWarning: This ImageDataGenerator specifies `featurewise_std_normalization`, but it hasn't been fit on any training data. Fit it first by calling `.fit(numpy_data)`.\n",
      "  warnings.warn('This ImageDataGenerator specifies '\n"
     ]
    },
    {
     "name": "stdout",
     "output_type": "stream",
     "text": [
      "Epoch 1/10\n",
      "2150/2150 [==============================] - 346s 161ms/step - loss: 3.1666 - accuracy: 0.4608\n",
      "Epoch 2/10\n",
      "2150/2150 [==============================] - 571s 265ms/step - loss: 3.1378 - accuracy: 0.4656\n",
      "Epoch 3/10\n",
      "2150/2150 [==============================] - 506s 235ms/step - loss: 3.1220 - accuracy: 0.4716\n",
      "Epoch 4/10\n",
      "2150/2150 [==============================] - 495s 230ms/step - loss: 3.1034 - accuracy: 0.4757\n",
      "Epoch 5/10\n",
      "2150/2150 [==============================] - 509s 237ms/step - loss: 3.0809 - accuracy: 0.4822\n",
      "Epoch 6/10\n",
      "2150/2150 [==============================] - 557s 259ms/step - loss: 3.0731 - accuracy: 0.4824\n",
      "Epoch 7/10\n",
      "2150/2150 [==============================] - 592s 275ms/step - loss: 3.0686 - accuracy: 0.4832\n",
      "Epoch 8/10\n",
      "2150/2150 [==============================] - 568s 264ms/step - loss: 3.0372 - accuracy: 0.4903\n",
      "Epoch 9/10\n",
      "2150/2150 [==============================] - 618s 288ms/step - loss: 3.0289 - accuracy: 0.4931\n",
      "Epoch 10/10\n",
      "1964/2150 [==========================>...] - ETA: 53s - loss: 3.0129 - accuracy: 0.4944"
     ]
    }
   ],
   "source": [
    "convnet.fit(train_gen,steps_per_epoch=train_gen.samples/32,\n",
    "           epochs=10,verbose=True)"
   ]
  },
  {
   "cell_type": "code",
   "execution_count": 14,
   "metadata": {},
   "outputs": [],
   "source": [
    "convnet.save('../../../data_set/模型訓練資料/save/original_cnn.h5')"
   ]
  },
  {
   "cell_type": "code",
   "execution_count": null,
   "metadata": {},
   "outputs": [],
   "source": []
  }
 ],
 "metadata": {
  "kernelspec": {
   "display_name": "Python 3",
   "language": "python",
   "name": "python3"
  },
  "language_info": {
   "codemirror_mode": {
    "name": "ipython",
    "version": 3
   },
   "file_extension": ".py",
   "mimetype": "text/x-python",
   "name": "python",
   "nbconvert_exporter": "python",
   "pygments_lexer": "ipython3",
   "version": "3.7.7"
  },
  "toc": {
   "base_numbering": 1,
   "nav_menu": {},
   "number_sections": true,
   "sideBar": true,
   "skip_h1_title": false,
   "title_cell": "Table of Contents",
   "title_sidebar": "Contents",
   "toc_cell": false,
   "toc_position": {},
   "toc_section_display": true,
   "toc_window_display": false
  },
  "varInspector": {
   "cols": {
    "lenName": 16,
    "lenType": 16,
    "lenVar": 40
   },
   "kernels_config": {
    "python": {
     "delete_cmd_postfix": "",
     "delete_cmd_prefix": "del ",
     "library": "var_list.py",
     "varRefreshCmd": "print(var_dic_list())"
    },
    "r": {
     "delete_cmd_postfix": ") ",
     "delete_cmd_prefix": "rm(",
     "library": "var_list.r",
     "varRefreshCmd": "cat(var_dic_list()) "
    }
   },
   "types_to_exclude": [
    "module",
    "function",
    "builtin_function_or_method",
    "instance",
    "_Feature"
   ],
   "window_display": false
  }
 },
 "nbformat": 4,
 "nbformat_minor": 4
}

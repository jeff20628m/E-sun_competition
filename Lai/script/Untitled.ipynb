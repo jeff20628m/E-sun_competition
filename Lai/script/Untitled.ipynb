{
 "cells": [
  {
   "cell_type": "code",
   "execution_count": 86,
   "metadata": {},
   "outputs": [],
   "source": [
    "import tensorflow as tf\n",
    "from tensorflow.keras import initializers\n",
    "from tensorflow.keras.layers import Input, Conv2D, Lambda, Dense, Flatten, MaxPooling2D,BatchNormalization,Dropout\n",
    "from tensorflow.keras.models import Model, Sequential\n",
    "from tensorflow.keras.regularizers import l2\n",
    "from tensorflow.keras import backend as K\n",
    "from tensorflow.keras.optimizers import SGD, Adam\n",
    "from tensorflow.keras.losses import binary_crossentropy\n",
    "import numpy.random as rng\n",
    "import numpy as np\n",
    "import os\n",
    "import pickle\n",
    "import matplotlib.pyplot as plt\n",
    "import seaborn as sns\n",
    "from sklearn.utils import shuffle"
   ]
  },
  {
   "cell_type": "code",
   "execution_count": 87,
   "metadata": {},
   "outputs": [],
   "source": [
    "from tensorflow.keras.preprocessing import image_dataset_from_directory\n",
    "from tensorflow.keras.preprocessing.image import ImageDataGenerator"
   ]
  },
  {
   "cell_type": "code",
   "execution_count": 88,
   "metadata": {},
   "outputs": [],
   "source": [
    "img_gen = ImageDataGenerator(featurewise_center=True,featurewise_std_normalization=True,rescale=1./255)"
   ]
  },
  {
   "cell_type": "code",
   "execution_count": 89,
   "metadata": {},
   "outputs": [
    {
     "name": "stdout",
     "output_type": "stream",
     "text": [
      "Found 55167 images belonging to 800 classes.\n",
      "Found 13637 images belonging to 800 classes.\n"
     ]
    }
   ],
   "source": [
    "train_gen = img_gen.flow_from_directory('../../../data_set/模型訓練資料/format_train/',target_size=(96,96),batch_size=32)\n",
    "val_gen = img_gen.flow_from_directory('../../../data_set/模型訓練資料/format_val/',target_size=(96,96),batch_size=32)"
   ]
  },
  {
   "cell_type": "code",
   "execution_count": 90,
   "metadata": {},
   "outputs": [
    {
     "name": "stdout",
     "output_type": "stream",
     "text": [
      "1 Physical GPUs, 1 Logical GPUs\n"
     ]
    }
   ],
   "source": [
    "def solve_cudnn_error():\n",
    "    gpus = tf.config.experimental.list_physical_devices('GPU')\n",
    "    if gpus:\n",
    "        try:\n",
    "            # Currently, memory growth needs to be the same across GPUs\n",
    "            for gpu in gpus:\n",
    "                tf.config.experimental.set_memory_growth(gpu, True)\n",
    "            logical_gpus = tf.config.experimental.list_logical_devices('GPU')\n",
    "            print(len(gpus), \"Physical GPUs,\", len(logical_gpus),\n",
    "                  \"Logical GPUs\")\n",
    "        except RuntimeError as e:\n",
    "            # Memory growth must be set before GPUs have been initialized\n",
    "            print(e)\n",
    "\n",
    "\n",
    "solve_cudnn_error()"
   ]
  },
  {
   "cell_type": "code",
   "execution_count": 91,
   "metadata": {
    "scrolled": true
   },
   "outputs": [
    {
     "name": "stdout",
     "output_type": "stream",
     "text": [
      "Model: \"sequential_8\"\n",
      "_________________________________________________________________\n",
      "Layer (type)                 Output Shape              Param #   \n",
      "=================================================================\n",
      "conv2d_39 (Conv2D)           (None, 87, 87, 64)        19264     \n",
      "_________________________________________________________________\n",
      "batch_normalization_23 (Batc (None, 87, 87, 64)        256       \n",
      "_________________________________________________________________\n",
      "dropout_39 (Dropout)         (None, 87, 87, 64)        0         \n",
      "_________________________________________________________________\n",
      "max_pooling2d_31 (MaxPooling (None, 43, 43, 64)        0         \n",
      "_________________________________________________________________\n",
      "conv2d_40 (Conv2D)           (None, 37, 37, 128)       401536    \n",
      "_________________________________________________________________\n",
      "dropout_40 (Dropout)         (None, 37, 37, 128)       0         \n",
      "_________________________________________________________________\n",
      "max_pooling2d_32 (MaxPooling (None, 18, 18, 128)       0         \n",
      "_________________________________________________________________\n",
      "conv2d_41 (Conv2D)           (None, 12, 12, 256)       1605888   \n",
      "_________________________________________________________________\n",
      "batch_normalization_24 (Batc (None, 12, 12, 256)       1024      \n",
      "_________________________________________________________________\n",
      "dropout_41 (Dropout)         (None, 12, 12, 256)       0         \n",
      "_________________________________________________________________\n",
      "max_pooling2d_33 (MaxPooling (None, 6, 6, 256)         0         \n",
      "_________________________________________________________________\n",
      "conv2d_42 (Conv2D)           (None, 3, 3, 512)         2097664   \n",
      "_________________________________________________________________\n",
      "batch_normalization_25 (Batc (None, 3, 3, 512)         2048      \n",
      "_________________________________________________________________\n",
      "dropout_42 (Dropout)         (None, 3, 3, 512)         0         \n",
      "_________________________________________________________________\n",
      "max_pooling2d_34 (MaxPooling (None, 1, 1, 512)         0         \n",
      "_________________________________________________________________\n",
      "conv2d_43 (Conv2D)           (None, 1, 1, 1024)        2098176   \n",
      "_________________________________________________________________\n",
      "flatten_8 (Flatten)          (None, 1024)              0         \n",
      "_________________________________________________________________\n",
      "dense_16 (Dense)             (None, 1024)              1049600   \n",
      "_________________________________________________________________\n",
      "dropout_43 (Dropout)         (None, 1024)              0         \n",
      "_________________________________________________________________\n",
      "dense_17 (Dense)             (None, 800)               820000    \n",
      "=================================================================\n",
      "Total params: 8,095,456\n",
      "Trainable params: 8,093,792\n",
      "Non-trainable params: 1,664\n",
      "_________________________________________________________________\n"
     ]
    }
   ],
   "source": [
    "input_shape = (96,96,3)\n",
    "\n",
    "convnet = Sequential()\n",
    "convnet.add(\n",
    "    Conv2D(64, (10, 10),\n",
    "           activation='relu',\n",
    "           input_shape=input_shape,\n",
    "           kernel_initializer=initializers.RandomNormal(stddev=0.01),\n",
    "           kernel_regularizer=l2(2e-4)))\n",
    "convnet.add(BatchNormalization())\n",
    "convnet.add(Dropout(0.4))\n",
    "convnet.add(MaxPooling2D())\n",
    "convnet.add(Conv2D(128, (7, 7), activation='relu',\n",
    "                   kernel_initializer=initializers.RandomNormal(stddev=0.01),\n",
    "                   kernel_regularizer=l2(2e-4)))\n",
    "convnet.add(Dropout(0.4))\n",
    "convnet.add(MaxPooling2D())\n",
    "convnet.add(Conv2D(256, (7, 7), activation='relu',\n",
    "                   kernel_initializer=initializers.RandomNormal(stddev=0.01),\n",
    "                   kernel_regularizer=l2(2e-4)))\n",
    "convnet.add(BatchNormalization())\n",
    "convnet.add(Dropout(0.4))\n",
    "convnet.add(MaxPooling2D())\n",
    "convnet.add(Conv2D(512, (4, 4), activation='relu',\n",
    "                   kernel_initializer=initializers.RandomNormal(stddev=0.01),\n",
    "                   kernel_regularizer=l2(2e-4)))\n",
    "convnet.add(BatchNormalization())\n",
    "convnet.add(Dropout(0.4))\n",
    "convnet.add(MaxPooling2D())\n",
    "convnet.add(Conv2D(1024, (2, 2), activation='relu',padding='same',\n",
    "                   kernel_initializer=initializers.RandomNormal(stddev=0.01),\n",
    "                   kernel_regularizer=l2(2e-4)))\n",
    "convnet.add(Flatten())\n",
    "convnet.add(Dense(1024, activation=\"relu\", kernel_regularizer=l2(1e-3)))\n",
    "convnet.add(Dropout(0.51))\n",
    "convnet.add(Dense(800, activation=\"softmax\"))\n",
    "\n",
    "convnet.compile(optimizer= Adam(),loss='categorical_crossentropy',metrics=['accuracy'])\n",
    "convnet.summary()"
   ]
  },
  {
   "cell_type": "code",
   "execution_count": null,
   "metadata": {},
   "outputs": [
    {
     "name": "stdout",
     "output_type": "stream",
     "text": [
      "Epoch 1/20\n",
      "1723/1723 [==============================] - 391s 227ms/step - loss: 4.1275 - accuracy: 0.2369 - val_loss: 7.4700 - val_accuracy: 0.0337\n",
      "Epoch 2/20\n",
      "1723/1723 [==============================] - 691s 401ms/step - loss: 4.0218 - accuracy: 0.2563 - val_loss: 5.6084 - val_accuracy: 0.1184\n",
      "Epoch 3/20\n",
      "1723/1723 [==============================] - 677s 393ms/step - loss: 3.9451 - accuracy: 0.2707 - val_loss: 6.0228 - val_accuracy: 0.0825\n",
      "Epoch 4/20\n",
      "1723/1723 [==============================] - 718s 417ms/step - loss: 3.8724 - accuracy: 0.2882 - val_loss: 5.6197 - val_accuracy: 0.1317\n",
      "Epoch 5/20\n",
      "1723/1723 [==============================] - 742s 431ms/step - loss: 3.8082 - accuracy: 0.2992 - val_loss: 5.7011 - val_accuracy: 0.1098\n",
      "Epoch 6/20\n",
      "1193/1723 [===================>..........] - ETA: 3:36 - loss: 3.7208 - accuracy: 0.3118"
     ]
    }
   ],
   "source": [
    "convnet.fit(train_gen,steps_per_epoch=train_gen.samples/32,validation_data=val_gen,\n",
    "           epochs=20,verbose=True)"
   ]
  },
  {
   "cell_type": "code",
   "execution_count": 16,
   "metadata": {},
   "outputs": [],
   "source": [
    "convnet.save('../../../data_set/模型訓練資料/save/original_cnn.h5')"
   ]
  }
 ],
 "metadata": {
  "kernelspec": {
   "display_name": "Python 3",
   "language": "python",
   "name": "python3"
  },
  "language_info": {
   "codemirror_mode": {
    "name": "ipython",
    "version": 3
   },
   "file_extension": ".py",
   "mimetype": "text/x-python",
   "name": "python",
   "nbconvert_exporter": "python",
   "pygments_lexer": "ipython3",
   "version": "3.7.7"
  },
  "toc": {
   "base_numbering": 1,
   "nav_menu": {},
   "number_sections": true,
   "sideBar": true,
   "skip_h1_title": false,
   "title_cell": "Table of Contents",
   "title_sidebar": "Contents",
   "toc_cell": false,
   "toc_position": {},
   "toc_section_display": true,
   "toc_window_display": false
  },
  "varInspector": {
   "cols": {
    "lenName": 16,
    "lenType": 16,
    "lenVar": 40
   },
   "kernels_config": {
    "python": {
     "delete_cmd_postfix": "",
     "delete_cmd_prefix": "del ",
     "library": "var_list.py",
     "varRefreshCmd": "print(var_dic_list())"
    },
    "r": {
     "delete_cmd_postfix": ") ",
     "delete_cmd_prefix": "rm(",
     "library": "var_list.r",
     "varRefreshCmd": "cat(var_dic_list()) "
    }
   },
   "types_to_exclude": [
    "module",
    "function",
    "builtin_function_or_method",
    "instance",
    "_Feature"
   ],
   "window_display": false
  }
 },
 "nbformat": 4,
 "nbformat_minor": 4
}

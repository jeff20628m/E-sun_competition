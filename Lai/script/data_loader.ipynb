{
 "cells": [
  {
   "cell_type": "code",
   "execution_count": 1,
   "metadata": {},
   "outputs": [],
   "source": [
    "import os \n",
    "import numpy as np\n",
    "import pickle\n",
    "from matplotlib.pyplot import imread\n",
    "import matplotlib.pyplot as plt\n",
    "from PIL import Image"
   ]
  },
  {
   "cell_type": "code",
   "execution_count": 2,
   "metadata": {},
   "outputs": [],
   "source": [
    "data_path = '../../../data_set/模型訓練資料/train/'\n",
    "save_path = '../../../data_set/模型訓練資料/save/'"
   ]
  },
  {
   "cell_type": "code",
   "execution_count": 3,
   "metadata": {},
   "outputs": [],
   "source": [
    "def find_label(img):\n",
    "    img = img.split('.')[0]\n",
    "    label = img.split('_')[1]\n",
    "    return label"
   ]
  },
  {
   "cell_type": "code",
   "execution_count": 10,
   "metadata": {},
   "outputs": [],
   "source": [
    "# cat_dict = {}\n",
    "# x = []\n",
    "# y = []\n",
    "# curr_y = 0\n",
    "\n",
    "# train_test_prob = 0.3\n",
    "# train_num = int(len(so.listdir(data_path)) * train_test_prob)\n",
    "\n",
    "# for img in os.listdir(data_path)[:train_num]:\n",
    "#     img_x = Image.open(os.path.join(os.path.join(data_path,img))).resize((60,60))\n",
    "#     img_x = np.array(img_x.getdata()).reshape((1,60,60,3))\n",
    "#     x.append(img_x)\n",
    "#     y.append(curr_y)\n",
    "#     cat_dict[curr_y] = find_label(img)\n",
    "#     curr_y+=1\n",
    "# x = np.stack(x)\n",
    "# y = np.vstack(y)\n",
    "\n",
    "\n",
    "def get_data(path, prob):\n",
    "    train_num = int(len(os.listdir(data_path)) * (1-prob))\n",
    "    cat_dict = {}\n",
    "    x = []\n",
    "    y = []\n",
    "    curr_y = 0\n",
    "    for img in os.listdir(path)[:train_num]:\n",
    "        img_x = Image.open(os.path.join(\n",
    "            os.path.join(path, img))).resize((60, 60))\n",
    "        img_x = np.array(img_x.getdata()).reshape((1, 60, 60, 3))\n",
    "        x.append(img_x)\n",
    "        y.append(curr_y)\n",
    "        cat_dict[curr_y] = find_label(img)\n",
    "        curr_y += 1\n",
    "    x_train = np.stack(x)\n",
    "    y_train = np.vstack(y)\n",
    "\n",
    "    x = []\n",
    "    y = []\n",
    "    for img in os.listdir(path)[train_num:]:\n",
    "        img_x = Image.open(os.path.join(\n",
    "            os.path.join(path, img))).resize((60, 60))\n",
    "        img_x = np.array(img_x.getdata()).reshape((1, 60, 60, 3))\n",
    "        x.append(img_x)\n",
    "        y.append(curr_y)\n",
    "        cat_dict[curr_y] = find_label(img)\n",
    "        curr_y += 1\n",
    "    x_val = np.stack(x)\n",
    "    y_val = np.vstack(y)\n",
    "\n",
    "    return x_train, y_train, x_val, y_val, cat_dict"
   ]
  },
  {
   "cell_type": "code",
   "execution_count": 11,
   "metadata": {},
   "outputs": [],
   "source": [
    "x_train, y_train, x_val, y_val,c = get_data(data_path,0.3)"
   ]
  },
  {
   "cell_type": "code",
   "execution_count": 13,
   "metadata": {},
   "outputs": [
    {
     "data": {
      "text/plain": [
       "(48163, 1, 60, 60, 3)"
      ]
     },
     "execution_count": 13,
     "metadata": {},
     "output_type": "execute_result"
    }
   ],
   "source": [
    "x_val.shape"
   ]
  },
  {
   "cell_type": "code",
   "execution_count": 14,
   "metadata": {},
   "outputs": [],
   "source": [
    "with open(os.path.join(save_path, \"train.pickle\"), \"wb\") as f:\n",
    "    pickle.dump((x_train, c), f)\n",
    "    \n",
    "with open(os.path.join(save_path, \"val.pickle\"), \"wb\") as f:\n",
    "    pickle.dump((x_val, c), f)"
   ]
  },
  {
   "cell_type": "code",
   "execution_count": null,
   "metadata": {},
   "outputs": [],
   "source": []
  }
 ],
 "metadata": {
  "kernelspec": {
   "display_name": "Python 3",
   "language": "python",
   "name": "python3"
  },
  "language_info": {
   "codemirror_mode": {
    "name": "ipython",
    "version": 3
   },
   "file_extension": ".py",
   "mimetype": "text/x-python",
   "name": "python",
   "nbconvert_exporter": "python",
   "pygments_lexer": "ipython3",
   "version": "3.7.7"
  },
  "toc": {
   "base_numbering": 1,
   "nav_menu": {},
   "number_sections": true,
   "sideBar": true,
   "skip_h1_title": false,
   "title_cell": "Table of Contents",
   "title_sidebar": "Contents",
   "toc_cell": false,
   "toc_position": {},
   "toc_section_display": true,
   "toc_window_display": false
  },
  "varInspector": {
   "cols": {
    "lenName": 16,
    "lenType": 16,
    "lenVar": 40
   },
   "kernels_config": {
    "python": {
     "delete_cmd_postfix": "",
     "delete_cmd_prefix": "del ",
     "library": "var_list.py",
     "varRefreshCmd": "print(var_dic_list())"
    },
    "r": {
     "delete_cmd_postfix": ") ",
     "delete_cmd_prefix": "rm(",
     "library": "var_list.r",
     "varRefreshCmd": "cat(var_dic_list()) "
    }
   },
   "types_to_exclude": [
    "module",
    "function",
    "builtin_function_or_method",
    "instance",
    "_Feature"
   ],
   "window_display": false
  }
 },
 "nbformat": 4,
 "nbformat_minor": 4
}
